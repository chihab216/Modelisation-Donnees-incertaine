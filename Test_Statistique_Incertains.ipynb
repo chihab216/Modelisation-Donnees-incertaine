{
  "nbformat": 4,
  "nbformat_minor": 0,
  "metadata": {
    "kernelspec": {
      "display_name": "R",
      "language": "R",
      "name": "ir"
    },
    "language_info": {
      "codemirror_mode": "r",
      "file_extension": ".r",
      "mimetype": "text/x-r-source",
      "name": "R",
      "pygments_lexer": "r",
      "version": "3.3.1"
    },
    "colab": {
      "name": "Test_Statistique_Incertains.ipynb",
      "provenance": [],
      "include_colab_link": true
    }
  },
  "cells": [
    {
      "cell_type": "markdown",
      "metadata": {
        "id": "view-in-github",
        "colab_type": "text"
      },
      "source": [
        "<a href=\"https://colab.research.google.com/github/chihab216/implementationCHU/blob/master/Test_Statistique_Incertains.ipynb\" target=\"_parent\"><img src=\"https://colab.research.google.com/assets/colab-badge.svg\" alt=\"Open In Colab\"/></a>"
      ]
    },
    {
      "cell_type": "markdown",
      "metadata": {
        "id": "mDL_rs-ve2M5",
        "colab_type": "text"
      },
      "source": [
        "Préparation des données données par l'hopital.Les données sont privées."
      ]
    },
    {
      "cell_type": "code",
      "metadata": {
        "id": "mm3YuIrbduNh",
        "colab_type": "code",
        "colab": {}
      },
      "source": [
        "install.packages(\"dplyr\")\n",
        "install.packages(\"readr\")\n",
        "install.packages(\"irr\")\n",
        "```\n",
        "\n",
        "```{r}\n",
        "#on charge les données\n",
        "library(dplyr)\n",
        "library(readr)\n",
        "MesureMatelas1 <- read.csv(\"C:/Users/Lenovo/Desktop/mesures_corrige(1).csv\", stringsAsFactors = F, dec=\".\")\n",
        "##\"C:/Users/Lenovo/Desktop/mesuresj1.csv\"sep=\";\",\"C:/Users/Lenovo/Desktop/mesures.csv\"\n",
        "MesureMatelas2<- read.csv(\"C:/Users/Lenovo/Desktop/mesuresj1_corrige (1).csv\", stringsAsFactors = F,  dec=\".\")\n",
        "##on converti toute les valeurs en numeric\n",
        "MesureMatelas1$intmes3j0 <- as.numeric(MesureMatelas1$intmes3j0)\n",
        "MesureMatelas1$intmes2j0 <- as.numeric(MesureMatelas1$intmes2j0)\n",
        "MesureMatelas1$intmes4j0 <- as.numeric(MesureMatelas1$intmes4j0)\n",
        "MesureMatelas1$intmes1j0 <- as.numeric(MesureMatelas1$intmes1j0)\n",
        "MesureMatelas2$intmes3j1 <- as.numeric(MesureMatelas2$intmes3j1)\n",
        "MesureMatelas2$intmes2j1 <- as.numeric(MesureMatelas2$intmes2j1)\n",
        "MesureMatelas2$intmes4j1 <- as.numeric(MesureMatelas2$intmes4j1)\n",
        "MesureMatelas2$intmes1j1 <- as.numeric(MesureMatelas2$intmes1j1)\n",
        "```\n",
        "\n",
        "```{r}\n",
        "\n",
        "library(irr)\n",
        "##on enleve les patients qui ont abandonné le jour2 dans les données du jour1\n",
        "MesureMatelas1bis=MesureMatelas1[-c(32,54,58),]\n",
        "x1=c(MesureMatelas1bis$intmes1j0[(MesureMatelas1bis$matelasj0==1)],MesureMatelas2$intmes1j1[(MesureMatelas2$matelasj1==1)])  \n",
        "x2=c(MesureMatelas1bis$intmes2j0[(MesureMatelas1bis$matelasj0==1)],MesureMatelas2$intmes2j1[(MesureMatelas2$matelasj1==1)])\n",
        "y1=c(MesureMatelas1bis$intmes1j0[(MesureMatelas1bis$matelasj0==2)],MesureMatelas2$intmes1j1[(MesureMatelas2$matelasj1==2)])  \n",
        "y2=c(MesureMatelas1bis$intmes2j0[(MesureMatelas1bis$matelasj0==2)],MesureMatelas2$intmes2j1[(MesureMatelas2$matelasj1==2)])\n",
        "#x1=matelas1 mesure1 ,x2=matelas1 mesure2,y1=matelas2 mesure1 et y2=matelas2 mesure1\n",
        "df1=data.frame(x1,x2,y1,y2)\n",
        "####Données apparaié donc on enlève tous les NA\n",
        "MesureD0 <- na.omit(df1)\n",
        "#On fait de meme pour le dosseret à 30°\n",
        "a1=c(MesureMatelas1bis$intmes3j0[(MesureMatelas1bis$matelasj0==1)],MesureMatelas2$intmes3j1[(MesureMatelas2$matelasj1==1)])  \n",
        "a2=c(MesureMatelas1bis$intmes4j0[(MesureMatelas1bis$matelasj0==1)],MesureMatelas2$intmes4j1[(MesureMatelas2$matelasj1==1)])\n",
        "b1=c(MesureMatelas1bis$intmes3j0[(MesureMatelas1bis$matelasj0==2)],MesureMatelas2$intmes3j1[(MesureMatelas2$matelasj1==2)])  \n",
        "b2=c(MesureMatelas1bis$intmes4j0[(MesureMatelas1bis$matelasj0==2)],MesureMatelas2$intmes4j1[(MesureMatelas2$matelasj1==2)])\n",
        "df2=data.frame(x1=a1,x2=a2,y1=b1,y2=b2)\n",
        "MesureD30 <- na.omit(df2)\n",
        "c=100\n",
        "\n"
      ],
      "execution_count": null,
      "outputs": []
    },
    {
      "cell_type": "markdown",
      "metadata": {
        "id": "kRbxfXrpffPB",
        "colab_type": "text"
      },
      "source": [
        "##Modélisation en trapèze des données de l'hopitale"
      ]
    },
    {
      "cell_type": "code",
      "metadata": {
        "id": "mMLnNF-LfNvh",
        "colab_type": "code",
        "colab": {}
      },
      "source": [
        "##Modélisation en trapèze\n",
        "##fonction qui renvoi les 4 valeurs du trapèze\n",
        "trapeze<- function(l,m){\n",
        "  listetr=c()\n",
        "  listea=c()\n",
        "  listeb=c()\n",
        "  listea1=c()\n",
        "  listeb1=c()\n",
        "  iccc=icc(cbind(l,m))$value#on prend la valeur de l'icc\n",
        "  for (i in 1:length(l)){\n",
        "    ecart=c*(1-iccc)/((abs(l[i]-m[i]))+1)#la valeur que l'on va ajouter à droite et à gauche pour faire un trapèze\n",
        "    a=min(l[i],m[i])\n",
        "    b=max(l[i],m[i])\n",
        "    a1=a-ecart\n",
        "    b1=b+ecart\n",
        "    listea=c(listea,a)\n",
        "    listeb=c(listeb,b)\n",
        "    listea1=c(listea1,a1)\n",
        "    listeb1=c(listeb1,b1)\n",
        "  }\n",
        "  listetr=cbind(listea1,listea,listeb,listeb1)\n",
        "  return(listetr)\n",
        "}\n",
        "##fonction qui donne les valeurs de trapeze(x)\n",
        "mu<- function(l,x){\n",
        "  if(l[1]<=x && x<=l[2]){\n",
        "    return((x-l[1])/(l[2]-l[1]))\n",
        "  }\n",
        "  else if(l[2]<=x && x<=l[3]){\n",
        "    return(1)\n",
        "  }\n",
        "  else if(l[3]<=x && x<=l[4]){\n",
        "    return((x-l[4])/(l[3]-l[4]))\n",
        "  }\n",
        "  else{\n",
        "    return(0)\n",
        "    \n",
        "  }\n",
        "}\n",
        "  \n",
        "trapezematelas1D0=trapeze(MesureD0$x1,MesureD0$x2)\n",
        "trapezematelas2D0=trapeze(MesureD0$y1,MesureD0$y2)\n",
        "trapezematelas1D30=trapeze(MesureD30$x1,MesureD30$x2)\n",
        "trapezematelas2D30=trapeze(MesureD30$y1,MesureD30$y2)\n",
        "\n"
      ],
      "execution_count": null,
      "outputs": []
    },
    {
      "cell_type": "markdown",
      "metadata": {
        "id": "eOw3IC1rfqSP",
        "colab_type": "text"
      },
      "source": [
        "#Modèle de la moyenne"
      ]
    },
    {
      "cell_type": "code",
      "metadata": {
        "id": "Ysz0mSiSfoW8",
        "colab_type": "code",
        "colab": {}
      },
      "source": [
        "\n",
        "#Modèle de la moyenne\n",
        "moyenneMatelas1D0=(MesureD0$x1+MesureD0$x2)/2\n",
        "moyenneMatelas2D0=(MesureD0$y1+MesureD0$y2)/2\n",
        "moyenneMatelas1D30=(MesureD30$x1+MesureD30$x2)/2\n",
        "moyenneMatelas2D30=(MesureD30$y1+MesureD30$y2)/2"
      ],
      "execution_count": null,
      "outputs": []
    },
    {
      "cell_type": "markdown",
      "metadata": {
        "id": "2d0lW1-hecMj",
        "colab_type": "text"
      },
      "source": [
        "## Implémentation du modèle de l'intervalle sur les données des matelas"
      ]
    },
    {
      "cell_type": "code",
      "metadata": {
        "id": "92HXYNbNeX_A",
        "colab_type": "code",
        "colab": {}
      },
      "source": [
        "##Intervalle\n",
        "##on calcule les écarts moyens entre mesure1 et mesure2 pour chaque matelas et position\n",
        "ecartMoyenm1D0=mean(abs(MesureD0$x1-MesureD0$x2))/2\n",
        "ecartMoyenm2D0=mean(abs(MesureD0$y1-MesureD0$y2))/2\n",
        "ecartMoyenm2D30=mean(abs(MesureD30$y1-MesureD30$y2))/2\n",
        "ecartMoyenm1D30=mean(abs(MesureD30$x1-MesureD30$x2))/2\n",
        "##on met les données par paire\n",
        "interM1D0=cbind(MesureD0$x1,MesureD0$x2)\n",
        "##on met les plus petit en premier et on additionne et soustrait l'écart moyen\n",
        "for (i in 1:length(MesureD0$x1)){\n",
        "  if(interM1D0[i,][1]>interM1D0[i,][2]){\n",
        "    a=interM1D0[i,][1]\n",
        "    interM1D0[i,][1]=interM1D0[i,][2]\n",
        "    interM1D0[i,][2]=a\n",
        "  }\n",
        "  interM1D0[i,][1]=interM1D0[i,][1]-ecartMoyenm1D0\n",
        "  interM1D0[i,][2]=interM1D0[i,][2]+ecartMoyenm1D0\n",
        "}\n",
        "interM2D0=cbind(MesureD0$y1,MesureD0$y2)\n",
        "##on met les plus petit en premier\n",
        "for (i in 1:length(MesureD0$y1)){\n",
        "  if(interM2D0[i,][1]>interM2D0[i,][2]){\n",
        "    a=interM2D0[i,][1]\n",
        "    interM2D0[i,][1]=interM2D0[i,][2]\n",
        "    interM2D0[i,][2]=a\n",
        "  }\n",
        "  interM2D0[i,][1]=interM2D0[i,][1]-ecartMoyenm2D0\n",
        "  interM2D0[i,][2]=interM2D0[i,][2]+ecartMoyenm2D0\n",
        "}\n",
        "interM1D30=cbind(MesureD30$x1,MesureD30$x2)\n",
        "##on met les plus petit en premier\n",
        "for (i in 1:length(MesureD30$x1)){\n",
        "  if(interM1D30[i,][1]>interM1D30[i,][2]){\n",
        "    a=interM1D30[i,][1]\n",
        "    interM1D30[i,][1]=interM1D30[i,][2]\n",
        "    interM1D30[i,][2]=a\n",
        "  }\n",
        "  interM1D30[i,][1]=interM1D30[i,][1]-ecartMoyenm1D30\n",
        "  interM1D30[i,][2]=interM1D30[i,][2]+ecartMoyenm1D30\n",
        "}\n",
        "interM2D30=cbind(MesureD30$y1,MesureD30$y2)\n",
        "##on met les plus petit en premier\n",
        "for (i in 1:length(MesureD30$y1)){\n",
        "  if(interM2D30[i,][1]>interM2D30[i,][2]){\n",
        "    a=interM2D30[i,][1]\n",
        "    interM2D30[i,][1]=interM2D30[i,][2]\n",
        "    interM2D30[i,][2]=a\n",
        "  }\n",
        "  interM2D30[i,][1]=interM2D30[i,][1]-ecartMoyenm2D30\n",
        "  interM2D30[i,][2]=interM2D30[i,][2]+ecartMoyenm2D30\n",
        "}"
      ],
      "execution_count": null,
      "outputs": []
    },
    {
      "cell_type": "markdown",
      "metadata": {
        "id": "YKJXosY5nhSD",
        "colab_type": "text"
      },
      "source": [
        " ## TesteIntervalKolmogorovSmirnov \n",
        " ### Interval ks selon https://hal.archives-ouvertes.fr/hal-01045013/document\n",
        "### x et y sont deux df avec deux colonnes"
      ]
    },
    {
      "cell_type": "code",
      "metadata": {
        "id": "Y5GIdLSVmvMt",
        "colab_type": "code",
        "colab": {}
      },
      "source": [
        "p_box <- function(data, data2, data3, data4) {\n",
        "\n",
        "  # C'est une fonction qui nous permet de tracer les F_A(x)\n",
        "\n",
        "  result <- sort(c(data,data2,data3,data4))\n",
        "  result <- cbind(result, rep(0,length(result)))\n",
        "  n = length(data)\n",
        "  current_value <- 0\n",
        "  last_value <- 0\n",
        "  for (k in 1:nrow(result)) {\n",
        "    if (result[k,1] %in% data && result[k,1] != last_value) {\n",
        "      current_value = current_value + 1\n",
        "    }\n",
        "    result[k,2] <- current_value/n\n",
        "    last_value <- result[k,1]\n",
        "  }\n",
        "  return(result)\n",
        "}\n",
        "\n",
        "\n",
        "\n",
        "\n",
        "TesteIntervalKolmogorovSmirnov <- function(x,y) {\n",
        " \n",
        "\n",
        "  x <- t(apply(x,1,sort))\n",
        "  y <- t(apply(y,1,sort))\n",
        "\n",
        "  sup_x <- sort(x[,1])\n",
        "  inf_x <- sort(x[,2])\n",
        "  sup_y <- sort(y[,1])\n",
        "  inf_y <- sort(y[,2])\n",
        "\n",
        "  f_sup_x <- p_box(sup_x,inf_y,sup_y,inf_x)\n",
        "  f_inf_x <- p_box(inf_y,sup_x,sup_y,inf_x)\n",
        "  f_sup_y <- p_box(sup_y,inf_x,sup_x,inf_y)\n",
        "  f_inf_y <- p_box(inf_x,sup_y,sup_x,inf_y)\n",
        "\n",
        "  high <- max(max(abs(f_sup_x[,2] - f_inf_y[,2])),max(abs(f_inf_x[,2] - f_sup_y[,2])))\n",
        "  D <- c()\n",
        "  for (k in 1:nrow(f_sup_x)) {\n",
        "    if ((f_inf_x[k,2] > f_inf_y[k,2] && f_sup_x[k,2] > f_inf_y[k,2]) || (f_inf_x[k,2] < f_inf_y[k,2] && f_inf_x[k,2] < f_sup_y[k,2])) {\n",
        "\n",
        "      D <- c(D,0)\n",
        "    } else {\n",
        "      D <- c(D,min(abs(f_inf_x[k,2]-f_sup_y[k,2]),abs(f_inf_y[k,2]-f_sup_x[k,2])))\n",
        "\n",
        "    }\n",
        "\n",
        "  }\n",
        "  low <- max(D)\n",
        "  return(list(\"low\" = low, \"high\" = high))\n",
        "}"
      ],
      "execution_count": 1,
      "outputs": []
    },
    {
      "cell_type": "markdown",
      "metadata": {
        "id": "v6GeHpHsnfYu",
        "colab_type": "text"
      },
      "source": [
        "##Test Wilkoxon Rank Intervalle\n",
        "https://www.lirmm.fr/~strauss/Publications/StraussPerolatCousoLoquin2015.pdf\n",
        "##On suppose que dans les dataframe les données des intervalles sont d'un coté les plus petites valeurs et de l'autre les plus grande\n",
        "\n"
      ]
    },
    {
      "cell_type": "code",
      "metadata": {
        "id": "ndabpSUKY5hM",
        "colab_type": "code",
        "colab": {}
      },
      "source": [
        "##test Wilkoxon Rank Intervalle\n",
        "\n",
        "testWilkoxonRankIntervalle<- function(dataframeintervalle1,dataframeintervalle2)##on suppose que dans les dataframe les données des intervalles sont d'un coté les plus petites valeurs et de l'autre les plus grande\n",
        "\n",
        "{\n",
        "\n",
        "n=length(dataframeintervalle1[,1])\n",
        "m=length(dataframeintervalle2[,1])\n",
        "l=n+m\n",
        "wh=0\n",
        "ph=1\n",
        "zh=c(dataframeintervalle1[,2],dataframeintervalle2[,1])\n",
        "zh=sort(zh)\n",
        "dataframeintervalle2[,1] = sort(dataframeintervalle2[,1])\n",
        "\n",
        "for(i in 1:l){\n",
        "\n",
        "  if (zh[i]==dataframeintervalle2[,1][ph] && ph<=length(dataframeintervalle2[,1])){\n",
        "    ph=ph+1\n",
        "\n",
        "  }\n",
        "\n",
        "  else{\n",
        "    wh=wh+i\n",
        "  }\n",
        "\n",
        "}\n",
        "\n",
        "z=c(dataframeintervalle1[,1],dataframeintervalle2[,2])\n",
        "z=sort(z)\n",
        "dataframeintervalle1[,1]=sort(dataframeintervalle1[,1])\n",
        "w=0\n",
        "q=1\n",
        "for(j in 1:l){{\n",
        "\n",
        "  if (dataframeintervalle1[,1][q]==z[j] && q<=length(dataframeintervalle1[,1])){\n",
        "    q=q+1\n",
        "    w=w+j\n",
        "  }\n",
        "}\n",
        "}\n",
        "\n",
        "nu=n*(n+m+1)/2\n",
        "s2=n*m*(n+m+1)/12\n",
        "tbas=(w-nu)/sqrt(s2)\n",
        "thaut=(wh-nu)/sqrt(s2)\n",
        "val=max(thaut,-tbas)\n",
        "val2=max(0,-thaut,tbas)\n",
        "pbas=2*(1-pnorm(val))\n",
        "phaut=2*(1-pnorm(val2))\n",
        "return(c(pbas,phaut))\n",
        "}\n",
        "\n"
      ],
      "execution_count": null,
      "outputs": []
    },
    {
      "cell_type": "markdown",
      "metadata": {
        "id": "0f2gX6zXZ8h0",
        "colab_type": "text"
      },
      "source": [
        "##Test Wilkoxon Signe Rank Trapeze Vaidyanathan\n",
        "http://www.iosrjournals.org/iosr-jm/papers/Vol10-issue2/Version-4/I010245559.pdf\n",
        "### Les deux données d'entrées sont des trapèzes"
      ]
    },
    {
      "cell_type": "code",
      "metadata": {
        "id": "RXgxdd2WZa-Z",
        "colab_type": "code",
        "colab": {}
      },
      "source": [
        "##test Wilkoxon Signe Rank Trapeze Vaidyanathan\n",
        "#on calcul la difference entre deux trapèzes\n",
        "difference<- function(l,m){\n",
        "  d=c((l[,1]-m[,4]),(l[,2]-m[,3]),(l[,3]-m[,2]),(l[,4]-m[,1]))\n",
        "  return(d)\n",
        "}\n",
        "testWilkoxonSigneRankTrapezeVaidyanathan<- function(dataframeTrapeze1,dataframeTrapeze2){\n",
        "\n",
        "\n",
        "  #on calcul la moyenne pour pouvoir ordonner les différences\n",
        "    diff=c()\n",
        "    moyenne=c()\n",
        "    for (i in 1:length(dataframeTrapeze1[,1])){\n",
        "      diff=cbind(diff,difference(dataframeTrapeze1[i,],dataframeTrapeze2[i,]))#on calcule la différence entre deux trapèze\n",
        "\n",
        "    }\n",
        "    diff=t(diff)\n",
        "\n",
        "    for (i in 1:length(dataframeTrapeze1[,1])){\n",
        "      moyenne=c(moyenne,mean(diff[i,]))#on classe les différences en calculant la moyenne\n",
        "    }\n",
        "    rang=c()\n",
        "    mo=sort(moyenne)\n",
        "    for (i in 1:length(moyenne)){\n",
        "      rang=c(rang,which(mo==moyenne[i]))\n",
        "    }\n",
        "    tableau=cbind(diff,moyenne,rang)\n",
        "\n",
        "    sm=sum(rang[moyenne<0])\n",
        "    sp=sum(rang[moyenne>0])\n",
        "    s=min(sp,sm)\n",
        "    n=length(moyenne)\n",
        "    sigma=n*(n+1)*(2*n+1)/24\n",
        "    pvalue= pnorm((s-n*(n+1)/4)/sqrt(sigma))\n",
        "    return(pvalue)\n",
        "\n",
        "}"
      ],
      "execution_count": 3,
      "outputs": []
    },
    {
      "cell_type": "markdown",
      "metadata": {
        "id": "ifaQSqbpaLVN",
        "colab_type": "text"
      },
      "source": [
        "##wilkoxon Signed Test Hesamian Chachi\n",
        "https://www.researchgate.net/publication/279113209_Fuzzy_Sign_test_for_imprecise_quantities_A_p-value_approach\n",
        "\n",
        "###  Les deux données d'entrées sont des trapèzes"
      ]
    },
    {
      "cell_type": "code",
      "metadata": {
        "id": "k94CAm1BaIp3",
        "colab_type": "code",
        "colab": {}
      },
      "source": [
        "##wilkoxon Signed Test Hesamian Chachi\n",
        "\n",
        "#on transforme les trapezes en triangle\n",
        "triangle<- function(l){\n",
        "\n",
        "  #on prend la moyenne des deux valeurs au milieux du trapèze\n",
        "  k=cbind(l[,1],((l[,2]+l[,3])/2),l[,4])\n",
        "  return(k)\n",
        "\n",
        "}\n",
        "#On calcul à quel point a est supérieur à b\n",
        "superieur<- function(a,b){\n",
        "  if(b[3]<=a[1]){\n",
        "    return(1)\n",
        "  }\n",
        "  else if (b[3]>a[1]){\n",
        "    return((b[3]-2*b[2]+((b[3]*(a[2]-a[1])+a[1]*(b[3]-b[2]))/(a[2]-a[1]+b[3]-b[2])))/(2*(b[3]-b[2])))\n",
        "\n",
        "  }\n",
        "\n",
        "\n",
        "}\n",
        "#calcul la différence de 2 triangles\n",
        "differencet<- function(l,m){\n",
        "  d=c((l[1]-m[3]),(l[2]-m[2]),(l[3]-m[1]))\n",
        "  return(d)\n",
        "}\n",
        "wilkoxonSignedTestHesamianChachi<- function(dataframeTrapeze1,dataframeTrapeze2){\n",
        "\n",
        "  u=triangle(dataframeTrapeze1)\n",
        "  v=triangle(dataframeTrapeze2)\n",
        "\n",
        "\n",
        "\n",
        "  supe=c()\n",
        "\n",
        "  for(i in 1:length(u[,1])){\n",
        "    supe=c(supe,superieur(u[i,],v[i,]))#on met toutes les valeurs de supériorité pour chaque paire de valeur\n",
        "  }\n",
        "\n",
        "  g=c()\n",
        "  listealpha=seq(0.5,1,0.001)#on créer plusieurs valeurs de alpha entre 0.5 et 1\n",
        "  for(i in 1:length(listealpha)){\n",
        "    tr=supe[supe>listealpha[i]]#on prend toutes les valeur de supériorité qui sont supérieur à alpha\n",
        "    g=c(g,length(tr)) #on ajoute dans une liste le nombre d'élément supérieur à ce alpha\n",
        "\n",
        "  }\n",
        "  f0=min(g)\n",
        "  f1=max(g)\n",
        "  pbas=0\n",
        "  #on calcul pbas et phaut avec le binome\n",
        "  for (i in 0:f0){\n",
        "\n",
        "    pbas=pbas+choose(length(u[,1]),i)*(0.5)**(length(u[,1]))\n",
        "  }\n",
        "  phaut=0\n",
        "  for (i in 0:f1){\n",
        "\n",
        "    phaut=phaut+choose(length(u[,1]),i)*(0.5)**(length(u[,1]))\n",
        "  }\n",
        "\n",
        "  return(c(pbas,phaut))\n",
        "\n",
        "}"
      ],
      "execution_count": null,
      "outputs": []
    },
    {
      "cell_type": "markdown",
      "metadata": {
        "id": "p0qsn1dgaJKB",
        "colab_type": "text"
      },
      "source": [
        ""
      ]
    }
  ]
}